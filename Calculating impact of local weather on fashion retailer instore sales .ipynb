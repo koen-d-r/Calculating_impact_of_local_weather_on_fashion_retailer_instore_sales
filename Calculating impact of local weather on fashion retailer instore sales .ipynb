{
 "cells": [
  {
   "cell_type": "code",
   "execution_count": 1,
   "metadata": {},
   "outputs": [],
   "source": [
    "# import libraries\n",
    "import requests\n",
    "import re\n",
    "import pandas as pd\n",
    "import numpy as np\n",
    "import datetime as dt\n",
    "from math import sin, cos, sqrt, atan2, radians"
   ]
  },
  {
   "cell_type": "code",
   "execution_count": 2,
   "metadata": {},
   "outputs": [],
   "source": [
    "# create start and end dates\n",
    "start_date = '2019-05-01'\n",
    "end_date = dt.datetime.today() - dt.timedelta(days = 1)\n",
    "date_range = pd.date_range(start_date, end_date)"
   ]
  },
  {
   "cell_type": "code",
   "execution_count": 5,
   "metadata": {},
   "outputs": [],
   "source": [
    "# create URL parameters for API call\n",
    "payload = {'start': start_date, 'end': end_date.strftime('%Y-%m-%d'), 'type':'daily', 'stns': 'ALL'}"
   ]
  },
  {
   "cell_type": "code",
   "execution_count": 6,
   "metadata": {},
   "outputs": [],
   "source": [
    "# make API call and store in variable knmi\n",
    "knmi = requests.get('http://projects.knmi.nl/klimatologie/daggegevens/getdata_dag.cgi', params = payload)"
   ]
  },
  {
   "cell_type": "code",
   "execution_count": 11,
   "metadata": {},
   "outputs": [],
   "source": [
    "# split text response in separate lines\n",
    "knmi_strings = re.split('\\r\\n', knmi.text)"
   ]
  },
  {
   "cell_type": "code",
   "execution_count": 54,
   "metadata": {},
   "outputs": [
    {
     "data": {
      "text/plain": [
       "['# BRON: KONINKLIJK NEDERLANDS METEOROLOGISCH INSTITUUT (KNMI)',\n",
       " '# Opmerking: door stationsverplaatsingen en veranderingen in waarneemmethodieken zijn deze tijdreeksen van dagwaarden mogelijk inhomogeen! Dat betekent dat deze reeks van gemeten waarden niet geschikt is voor trendanalyse. Voor studies naar klimaatverandering verwijzen we naar de gehomogeniseerde reeks maandtemperaturen van De Bilt <http://www.knmi.nl/kennis-en-datacentrum/achtergrond/gehomogeniseerde-reeks-maandtemperaturen-de-bilt> of de Centraal Nederland Temperatuur <http://www.knmi.nl/kennis-en-datacentrum/achtergrond/centraal-nederland-temperatuur-cnt>.',\n",
       " '# ',\n",
       " '# ',\n",
       " '# STN      LON(east)   LAT(north)     ALT(m)  NAME',\n",
       " '# 391:         6.197       51.498      19.50  ARCEN',\n",
       " '# 370:         5.377       51.451      22.60  EINDHOVEN',\n",
       " '# 331:         4.193       51.480       0.00  THOLEN',\n",
       " '# 315:         3.998       51.447       0.00  HANSWEERT',\n",
       " '# 324:         4.006       51.596       0.00  STAVENISSE',\n",
       " '# 375:         5.707       51.659      22.00  VOLKEL',\n",
       " '# 380:         5.762       50.906     114.30  MAASTRICHT',\n",
       " '# 240:         4.790       52.318      -3.30  SCHIPHOL',\n",
       " '# 286:         7.150       53.196      -0.20  NIEUW BEERTA',\n",
       " '# 310:         3.596       51.442       8.00  VLISSINGEN',\n",
       " '# 283:         6.657       52.069      29.10  HUPSEL',\n",
       " '# 280:         6.585       53.125       5.20  EELDE',\n",
       " '# 273:         5.888       52.703      -3.30  MARKNESSE',\n",
       " '# 323:         3.884       51.527       1.40  WILHELMINADORP',\n",
       " '# 249:         4.979       52.644      -2.40  BERKHOUT',\n",
       " '# 377:         5.763       51.198      30.00  ELL',\n",
       " '# 316:         3.694       51.657       0.00  SCHAAR',\n",
       " '# 313:         3.242       51.505       0.00  VLAKTE V.D. RAAN',\n",
       " '# 277:         6.200       53.413       2.90  LAUWERSOOG',\n",
       " '# 348:         4.926       51.970      -0.70  CABAUW',\n",
       " '# 308:         3.379       51.381       0.00  CADZAND',\n",
       " '# 319:         3.861       51.226       1.70  WESTDORPE',\n",
       " '# 215:         4.437       52.141      -1.10  VOORSCHOTEN',\n",
       " '# 278:         6.259       52.435       3.60  HEINO',\n",
       " '# 285:         6.399       53.575       0.00  HUIBERTGAT',\n",
       " \"# 343:         4.313       51.893       3.50  R'DAM-GEULHAVEN\",\n",
       " '# 225:         4.555       52.463       4.40  IJMUIDEN',\n",
       " '# 330:         4.122       51.992      11.90  HOEK VAN HOLLAND',\n",
       " '# 267:         5.384       52.898      -1.30  STAVOREN',\n",
       " '# 269:         5.520       52.458      -3.70  LELYSTAD',\n",
       " '# 344:         4.447       51.962      -4.30  ROTTERDAM',\n",
       " '# 275:         5.873       52.056      48.20  DEELEN',\n",
       " '# 235:         4.781       52.928       1.20  DE KOOY',\n",
       " '# 257:         4.603       52.506       8.50  WIJK AAN ZEE',\n",
       " '# 290:         6.891       52.274      34.80  TWENTHE',\n",
       " '# 350:         4.936       51.566      14.90  GILZE-RIJEN',\n",
       " '# 251:         5.346       53.392       0.70  HOORN (TERSCHELLING)',\n",
       " '# 210:         4.430       52.171      -0.20  VALKENBURG',\n",
       " '# 248:         5.174       52.634       0.80  WIJDENES',\n",
       " '# 279:         6.574       52.750      15.80  HOOGEVEEN',\n",
       " '# 258:         5.401       52.649       7.30  HOUTRIBDIJK',\n",
       " '# 356:         5.146       51.859       0.70  HERWIJNEN',\n",
       " '# 209:         4.518       52.465       0.00  IJMOND',\n",
       " '# 265:         5.274       52.130      13.90  SOESTERBERG',\n",
       " '# 312:         3.622       51.768       0.00  OOSTERSCHELDE',\n",
       " '# 340:         4.342       51.449      19.20  WOENSDRECHT',\n",
       " '# 260:         5.180       52.100       1.90  DE BILT',\n",
       " '# 270:         5.752       53.224       1.20  LEEUWARDEN',\n",
       " '# 311:         3.672       51.379       0.00  HOOFDPLAAT',\n",
       " '# 242:         4.921       53.241      10.80  VLIELAND',\n",
       " '# ',\n",
       " '# YYYYMMDD = Date (YYYY=year MM=month DD=day); ',\n",
       " '# DDVEC    = Vector mean wind direction in degrees (360=north, 90=east, 180=south, 270=west, 0=calm/variable); ',\n",
       " '# FHVEC    = Vector mean windspeed (in 0.1 m/s); ',\n",
       " '# FG       = Daily mean windspeed (in 0.1 m/s); ',\n",
       " '# FHX      = Maximum hourly mean windspeed (in 0.1 m/s); ',\n",
       " '# FHXH     = Hourly division in which FHX was measured; ',\n",
       " '# FHN      = Minimum hourly mean windspeed (in 0.1 m/s); ',\n",
       " '# FHNH     = Hourly division in which FHN was measured; ',\n",
       " '# FXX      = Maximum wind gust (in 0.1 m/s); ',\n",
       " '# FXXH     = Hourly division in which FXX was measured; ',\n",
       " '# TG       = Daily mean temperature in (0.1 degrees Celsius); ',\n",
       " '# TN       = Minimum temperature (in 0.1 degrees Celsius); ',\n",
       " '# TNH      = Hourly division in which TN was measured; ',\n",
       " '# TX       = Maximum temperature (in 0.1 degrees Celsius); ',\n",
       " '# TXH      = Hourly division in which TX was measured; ',\n",
       " '# T10N     = Minimum temperature at 10 cm above surface (in 0.1 degrees Celsius); ',\n",
       " '# T10NH    = 6-hourly division in which T10N was measured; 6=0-6 UT, 12=6-12 UT, 18=12-18 UT, 24=18-24 UT',\n",
       " '# SQ       = Sunshine duration (in 0.1 hour) calculated from global radiation (-1 for <0.05 hour); ',\n",
       " '# SP       = Percentage of maximum potential sunshine duration; ',\n",
       " '# Q        = Global radiation (in J/cm2); ',\n",
       " '# DR       = Precipitation duration (in 0.1 hour); ',\n",
       " '# RH       = Daily precipitation amount (in 0.1 mm) (-1 for <0.05 mm); ',\n",
       " '# RHX      = Maximum hourly precipitation amount (in 0.1 mm) (-1 for <0.05 mm); ',\n",
       " '# RHXH     = Hourly division in which RHX was measured; ',\n",
       " '# EV24     = Potential evapotranspiration (Makkink) (in 0.1 mm); ',\n",
       " '# PG       = Daily mean sea level pressure (in 0.1 hPa) calculated from 24 hourly values; ',\n",
       " '# PX       = Maximum hourly sea level pressure (in 0.1 hPa); ',\n",
       " '# PXH      = Hourly division in which PX was measured; ',\n",
       " '# PN       = Minimum hourly sea level pressure (in 0.1 hPa); ',\n",
       " '# PNH      = Hourly division in which PN was measured; ',\n",
       " '# VVN      = Minimum visibility; 0: <100 m, 1:100-200 m, 2:200-300 m,..., 49:4900-5000 m, 50:5-6 km, 56:6-7 km, 57:7-8 km,..., 79:29-30 km, 80:30-35 km, 81:35-40 km,..., 89: >70 km)',\n",
       " '# VVNH     = Hourly division in which VVN was measured; ',\n",
       " '# VVX      = Maximum visibility; 0: <100 m, 1:100-200 m, 2:200-300 m,..., 49:4900-5000 m, 50:5-6 km, 56:6-7 km, 57:7-8 km,..., 79:29-30 km, 80:30-35 km, 81:35-40 km,..., 89: >70 km)',\n",
       " '# VVXH     = Hourly division in which VVX was measured; ',\n",
       " '# NG       = Mean daily cloud cover (in octants, 9=sky invisible); ',\n",
       " '# UG       = Daily mean relative atmospheric humidity (in percents); ',\n",
       " '# UX       = Maximum relative atmospheric humidity (in percents); ',\n",
       " '# UXH      = Hourly division in which UX was measured; ',\n",
       " '# UN       = Minimum relative atmospheric humidity (in percents); ',\n",
       " '# UNH      = Hourly division in which UN was measured; ',\n",
       " '# ',\n",
       " '# STN,YYYYMMDD,DDVEC,FHVEC,   FG,  FHX, FHXH,  FHN, FHNH,  FXX, FXXH,   TG,   TN,  TNH,   TX,  TXH, T10N,T10NH,   SQ,   SP,    Q,   DR,   RH,  RHX, RHXH, EV24,   PG,   PX,  PXH,   PN,  PNH,  VVN, VVNH,  VVX, VVXH,   NG,   UG,   UX,  UXH,   UN,  UNH',\n",
       " '# ',\n",
       " '  391,20190601,  219,    9,   12,   20,    6,    0,   19,   90,   13,  199,  107,    4,  278,   16,   94,    6,  115,   71, 2567,    0,    0,    0,    1,   47,     ,     ,     ,     ,     ,     ,     ,     ,     ,     ,   69,   98,    4,   40,   17']"
      ]
     },
     "execution_count": 54,
     "metadata": {},
     "output_type": "execute_result"
    }
   ],
   "source": [
    "# check results\n",
    "knmi_strings[:100]"
   ]
  },
  {
   "cell_type": "code",
   "execution_count": 13,
   "metadata": {},
   "outputs": [],
   "source": [
    "# extract KNMI weather data with regex from text\n",
    "knmi_weather_data = []\n",
    "\n",
    "for b in knmi_strings: # search in splitted knmi_strings\n",
    "    data = re.search('^\\s+[0-9]{3},20[0-9]{6}.*', b) # search for strings matching regex\n",
    "    if data is not None:\n",
    "        data = data[0] # get first result\n",
    "        data = re.sub('\\s+', '', data) # replace all whitespaces with nothing\n",
    "        data = re.split(',', data)\n",
    "        knmi_weather_data.append(data) # append to list"
   ]
  },
  {
   "cell_type": "code",
   "execution_count": 56,
   "metadata": {},
   "outputs": [
    {
     "data": {
      "text/plain": [
       "[['391',\n",
       "  '20190601',\n",
       "  '219',\n",
       "  '9',\n",
       "  '12',\n",
       "  '20',\n",
       "  '6',\n",
       "  '0',\n",
       "  '19',\n",
       "  '90',\n",
       "  '13',\n",
       "  '199',\n",
       "  '107',\n",
       "  '4',\n",
       "  '278',\n",
       "  '16',\n",
       "  '94',\n",
       "  '6',\n",
       "  '115',\n",
       "  '71',\n",
       "  '2567',\n",
       "  '0',\n",
       "  '0',\n",
       "  '0',\n",
       "  '1',\n",
       "  '47',\n",
       "  '',\n",
       "  '',\n",
       "  '',\n",
       "  '',\n",
       "  '',\n",
       "  '',\n",
       "  '',\n",
       "  '',\n",
       "  '',\n",
       "  '',\n",
       "  '69',\n",
       "  '98',\n",
       "  '4',\n",
       "  '40',\n",
       "  '17'],\n",
       " ['391',\n",
       "  '20190602',\n",
       "  '213',\n",
       "  '22',\n",
       "  '25',\n",
       "  '50',\n",
       "  '13',\n",
       "  '0',\n",
       "  '1',\n",
       "  '100',\n",
       "  '12',\n",
       "  '240',\n",
       "  '128',\n",
       "  '4',\n",
       "  '322',\n",
       "  '15',\n",
       "  '113',\n",
       "  '6',\n",
       "  '129',\n",
       "  '79',\n",
       "  '2697',\n",
       "  '0',\n",
       "  '0',\n",
       "  '0',\n",
       "  '1',\n",
       "  '52',\n",
       "  '',\n",
       "  '',\n",
       "  '',\n",
       "  '',\n",
       "  '',\n",
       "  '',\n",
       "  '',\n",
       "  '',\n",
       "  '',\n",
       "  '',\n",
       "  '55',\n",
       "  '99',\n",
       "  '4',\n",
       "  '26',\n",
       "  '14'],\n",
       " ['391',\n",
       "  '20190603',\n",
       "  '269',\n",
       "  '9',\n",
       "  '15',\n",
       "  '30',\n",
       "  '3',\n",
       "  '0',\n",
       "  '1',\n",
       "  '70',\n",
       "  '3',\n",
       "  '189',\n",
       "  '129',\n",
       "  '23',\n",
       "  '239',\n",
       "  '13',\n",
       "  '119',\n",
       "  '24',\n",
       "  '35',\n",
       "  '21',\n",
       "  '1502',\n",
       "  '8',\n",
       "  '6',\n",
       "  '3',\n",
       "  '2',\n",
       "  '27',\n",
       "  '',\n",
       "  '',\n",
       "  '',\n",
       "  '',\n",
       "  '',\n",
       "  '',\n",
       "  '',\n",
       "  '',\n",
       "  '',\n",
       "  '',\n",
       "  '75',\n",
       "  '96',\n",
       "  '4',\n",
       "  '56',\n",
       "  '13']]"
      ]
     },
     "execution_count": 56,
     "metadata": {},
     "output_type": "execute_result"
    }
   ],
   "source": [
    "# check result\n",
    "knmi_weather_data[:3]"
   ]
  },
  {
   "cell_type": "code",
   "execution_count": 15,
   "metadata": {},
   "outputs": [],
   "source": [
    "# put data in dataframe\n",
    "knmi_weather_df = pd.DataFrame(knmi_weather_data, columns = ['STN','YYYYMMDD','DDVEC','FHVEC','FG','FHX','FHXH','FHN','FHNH', 'FXX', 'FXXH', 'TG' , 'TN', 'TNH', 'TX', 'TXH', 'T10N', 'T10NH', 'SQ', 'SP', 'Q', 'DR', 'RH', 'RHX', 'RHXH', 'EV24', 'PG', 'PX', 'PXH',  'PN', 'PNH', 'VVN', 'VVNH',  'VVX', 'VVXH',  'NG',  'UG', 'UX', 'UXH', 'UN', 'UNH'])"
   ]
  },
  {
   "cell_type": "code",
   "execution_count": 16,
   "metadata": {},
   "outputs": [],
   "source": [
    "# replace empty values in dataframe with np.nan\n",
    "knmi_weather_df[knmi_weather_df == ''] = np.nan"
   ]
  },
  {
   "cell_type": "code",
   "execution_count": 17,
   "metadata": {},
   "outputs": [],
   "source": [
    "# drop unnecessary columns\n",
    "knmi_weather_df = knmi_weather_df[['STN','YYYYMMDD','TG', 'DR', 'RH', 'SQ']]\n",
    "\n",
    "# rename column names for better understanding of columns\n",
    "knmi_weather_df.rename({'STN':'station_id','YYYYMMDD':'date', 'TG': 'mean_temp', 'DR': 'percipation_duration', 'RH': 'percipation_amount', 'SQ': 'sunshine_duration'}, inplace=True, axis=1)"
   ]
  },
  {
   "cell_type": "code",
   "execution_count": 18,
   "metadata": {},
   "outputs": [],
   "source": [
    "# drop all rows and columns with NaN values\n",
    "knmi_weather_df = knmi_weather_df.dropna()"
   ]
  },
  {
   "cell_type": "code",
   "execution_count": 19,
   "metadata": {},
   "outputs": [],
   "source": [
    "# convert weather data back to integers\n",
    "knmi_weather_df.iloc[:, 2:] = knmi_weather_df.iloc[:, 2:].astype(int)"
   ]
  },
  {
   "cell_type": "code",
   "execution_count": 20,
   "metadata": {},
   "outputs": [],
   "source": [
    "# fill values lower than zero with zero\n",
    "knmi_weather_df[knmi_weather_df['percipation_amount'] < 0] = 0\n",
    "knmi_weather_df[knmi_weather_df['sunshine_duration'] < 0] = 0"
   ]
  },
  {
   "cell_type": "code",
   "execution_count": 21,
   "metadata": {},
   "outputs": [],
   "source": [
    "# change data type to date for column 'date'\n",
    "knmi_weather_df['date'] = pd.to_datetime(knmi_weather_df['date'])"
   ]
  },
  {
   "cell_type": "code",
   "execution_count": 22,
   "metadata": {},
   "outputs": [],
   "source": [
    "# extract KNMI station locations from API response\n",
    "knmi_locations = []\n",
    "\n",
    "for i in knmi_strings:\n",
    "    found = re.search('^\\# [0-9]{3}\\:.*', i)\n",
    "    if found is not None:\n",
    "        knmi_locations.append(found[0])"
   ]
  },
  {
   "cell_type": "code",
   "execution_count": 23,
   "metadata": {},
   "outputs": [],
   "source": [
    "# extract KNMI station locations from API response - step 2\n",
    "knmi_coordinates = []\n",
    "knmi_places = []\n",
    "\n",
    "for a in knmi_locations:\n",
    "    first_part = a[:44]\n",
    "    a = first_part.replace('# ', '')\n",
    "    a = a.replace(':', '')\n",
    "    a = re.sub('\\s+', ',', a)\n",
    "    a = re.split(',', a)\n",
    "    knmi_coordinates.append(a)\n",
    "    \n",
    "for b in knmi_locations:\n",
    "    b = b[46:]\n",
    "    knmi_places.append(b)"
   ]
  },
  {
   "cell_type": "code",
   "execution_count": 24,
   "metadata": {},
   "outputs": [],
   "source": [
    "# put KNMI station data in dataframe \n",
    "knmi_coordinates = pd.DataFrame(knmi_coordinates, columns = ['station_id', 'latitude', 'longitude', 'elevation'], dtype = float)\n",
    "knmi_places = pd.DataFrame(knmi_places, columns = ['city'])\n",
    "knmi_locations = pd.concat([knmi_coordinates, knmi_places], axis = 1)\n",
    "knmi_locations['station_id'] = knmi_locations['station_id'].astype(object)"
   ]
  },
  {
   "cell_type": "code",
   "execution_count": 57,
   "metadata": {},
   "outputs": [
    {
     "data": {
      "text/html": [
       "<div>\n",
       "<style scoped>\n",
       "    .dataframe tbody tr th:only-of-type {\n",
       "        vertical-align: middle;\n",
       "    }\n",
       "\n",
       "    .dataframe tbody tr th {\n",
       "        vertical-align: top;\n",
       "    }\n",
       "\n",
       "    .dataframe thead th {\n",
       "        text-align: right;\n",
       "    }\n",
       "</style>\n",
       "<table border=\"1\" class=\"dataframe\">\n",
       "  <thead>\n",
       "    <tr style=\"text-align: right;\">\n",
       "      <th></th>\n",
       "      <th>station_id</th>\n",
       "      <th>latitude</th>\n",
       "      <th>longitude</th>\n",
       "      <th>elevation</th>\n",
       "      <th>city</th>\n",
       "    </tr>\n",
       "  </thead>\n",
       "  <tbody>\n",
       "    <tr>\n",
       "      <th>0</th>\n",
       "      <td>391</td>\n",
       "      <td>6.197</td>\n",
       "      <td>51.498</td>\n",
       "      <td>19.5</td>\n",
       "      <td>ARCEN</td>\n",
       "    </tr>\n",
       "    <tr>\n",
       "      <th>1</th>\n",
       "      <td>370</td>\n",
       "      <td>5.377</td>\n",
       "      <td>51.451</td>\n",
       "      <td>22.6</td>\n",
       "      <td>EINDHOVEN</td>\n",
       "    </tr>\n",
       "    <tr>\n",
       "      <th>2</th>\n",
       "      <td>331</td>\n",
       "      <td>4.193</td>\n",
       "      <td>51.480</td>\n",
       "      <td>0.0</td>\n",
       "      <td>THOLEN</td>\n",
       "    </tr>\n",
       "    <tr>\n",
       "      <th>3</th>\n",
       "      <td>315</td>\n",
       "      <td>3.998</td>\n",
       "      <td>51.447</td>\n",
       "      <td>0.0</td>\n",
       "      <td>HANSWEERT</td>\n",
       "    </tr>\n",
       "    <tr>\n",
       "      <th>4</th>\n",
       "      <td>324</td>\n",
       "      <td>4.006</td>\n",
       "      <td>51.596</td>\n",
       "      <td>0.0</td>\n",
       "      <td>STAVENISSE</td>\n",
       "    </tr>\n",
       "    <tr>\n",
       "      <th>5</th>\n",
       "      <td>375</td>\n",
       "      <td>5.707</td>\n",
       "      <td>51.659</td>\n",
       "      <td>22.0</td>\n",
       "      <td>VOLKEL</td>\n",
       "    </tr>\n",
       "    <tr>\n",
       "      <th>6</th>\n",
       "      <td>380</td>\n",
       "      <td>5.762</td>\n",
       "      <td>50.906</td>\n",
       "      <td>114.3</td>\n",
       "      <td>MAASTRICHT</td>\n",
       "    </tr>\n",
       "    <tr>\n",
       "      <th>7</th>\n",
       "      <td>240</td>\n",
       "      <td>4.790</td>\n",
       "      <td>52.318</td>\n",
       "      <td>-3.3</td>\n",
       "      <td>SCHIPHOL</td>\n",
       "    </tr>\n",
       "    <tr>\n",
       "      <th>8</th>\n",
       "      <td>286</td>\n",
       "      <td>7.150</td>\n",
       "      <td>53.196</td>\n",
       "      <td>-0.2</td>\n",
       "      <td>NIEUW BEERTA</td>\n",
       "    </tr>\n",
       "    <tr>\n",
       "      <th>9</th>\n",
       "      <td>310</td>\n",
       "      <td>3.596</td>\n",
       "      <td>51.442</td>\n",
       "      <td>8.0</td>\n",
       "      <td>VLISSINGEN</td>\n",
       "    </tr>\n",
       "  </tbody>\n",
       "</table>\n",
       "</div>"
      ],
      "text/plain": [
       "  station_id  latitude  longitude  elevation          city\n",
       "0        391     6.197     51.498       19.5         ARCEN\n",
       "1        370     5.377     51.451       22.6     EINDHOVEN\n",
       "2        331     4.193     51.480        0.0        THOLEN\n",
       "3        315     3.998     51.447        0.0     HANSWEERT\n",
       "4        324     4.006     51.596        0.0    STAVENISSE\n",
       "5        375     5.707     51.659       22.0        VOLKEL\n",
       "6        380     5.762     50.906      114.3    MAASTRICHT\n",
       "7        240     4.790     52.318       -3.3      SCHIPHOL\n",
       "8        286     7.150     53.196       -0.2  NIEUW BEERTA\n",
       "9        310     3.596     51.442        8.0    VLISSINGEN"
      ]
     },
     "execution_count": 57,
     "metadata": {},
     "output_type": "execute_result"
    }
   ],
   "source": [
    "# check result\n",
    "knmi_locations.head(10)"
   ]
  },
  {
   "cell_type": "code",
   "execution_count": 26,
   "metadata": {},
   "outputs": [],
   "source": [
    "# create four random store locations with store id's\n",
    "store_locations = {101: [51.442070, 5.475730], 102: [53.217600, 6.565110], 103: [52.373460, 4.892750], 104: [52.091270, 5.117820]}"
   ]
  },
  {
   "cell_type": "code",
   "execution_count": 27,
   "metadata": {},
   "outputs": [],
   "source": [
    "# put store locations with longitudes and latitudes in dataframe\n",
    "store_locations_df = pd.DataFrame.from_dict(store_locations, orient = 'index', columns = ['longitude', 'latitude'])"
   ]
  },
  {
   "cell_type": "code",
   "execution_count": 28,
   "metadata": {},
   "outputs": [],
   "source": [
    "# find all distances between all KNMI weather stations and all stores and append to \n",
    "# distance_list\n",
    "distance_list = []\n",
    "\n",
    "# approximate radius of earth in km\n",
    "R = 6373.0\n",
    "\n",
    "for index_a, row_a in store_locations_df.iterrows():\n",
    "    for index_b, row_b in knmi_locations.iterrows():\n",
    "        lat1 = radians(row_a['latitude'])\n",
    "        lon1 = radians(row_a['longitude'])\n",
    "        lat2 = radians(row_b['latitude'])\n",
    "        lon2 = radians(row_b['longitude'])\n",
    "        dlon = lon2 - lon1\n",
    "        dlat = lat2 - lat1\n",
    "        a = sin(dlat / 2)**2 + cos(lat1) * cos(lat2) * sin(dlon / 2)**2\n",
    "        c = 2 * atan2(sqrt(a), sqrt(1 - a))\n",
    "        distance = R * c\n",
    "        combined = [index_a, row_b['station_id'], row_b['city'], distance]\n",
    "        distance_list.append(combined)"
   ]
  },
  {
   "cell_type": "code",
   "execution_count": 29,
   "metadata": {},
   "outputs": [],
   "source": [
    "# put distance_list in dataframe\n",
    "distance_df = pd.DataFrame(distance_list, columns = ['store_id', 'station_id', 'city', 'distance'])"
   ]
  },
  {
   "cell_type": "code",
   "execution_count": 30,
   "metadata": {},
   "outputs": [],
   "source": [
    "# find closest KNMI station per store\n",
    "distance_df = distance_df.groupby('store_id', as_index=False)['store_id', 'station_id', 'city', 'distance'].apply(lambda x: x.nsmallest(1, 'distance', keep='first'))"
   ]
  },
  {
   "cell_type": "code",
   "execution_count": 32,
   "metadata": {},
   "outputs": [],
   "source": [
    "# generate random sales data per store\n",
    "sales_data_list = []\n",
    "\n",
    "for each in store_locations.keys():\n",
    "    for other in date_range:\n",
    "        b = str(round(np.random.normal(loc = 1500, scale = 150),2))\n",
    "        other = other.strftime('%Y-%m-%d')\n",
    "        combined = [each, other, b]\n",
    "        sales_data_list.append(combined)"
   ]
  },
  {
   "cell_type": "code",
   "execution_count": 58,
   "metadata": {},
   "outputs": [
    {
     "data": {
      "text/plain": [
       "[[101, '2019-05-01', '932.03'],\n",
       " [101, '2019-05-02', '2761.66'],\n",
       " [101, '2019-05-03', '1155.03'],\n",
       " [101, '2019-05-04', '1491.35'],\n",
       " [101, '2019-05-05', '-96.73'],\n",
       " [101, '2019-05-06', '-633.92'],\n",
       " [101, '2019-05-07', '1448.41'],\n",
       " [101, '2019-05-08', '3454.48'],\n",
       " [101, '2019-05-09', '1050.15'],\n",
       " [101, '2019-05-10', '2500.79']]"
      ]
     },
     "execution_count": 58,
     "metadata": {},
     "output_type": "execute_result"
    }
   ],
   "source": [
    "sales_data_list[:10]"
   ]
  },
  {
   "cell_type": "code",
   "execution_count": 34,
   "metadata": {},
   "outputs": [],
   "source": [
    "# put sales data in pandas dataframe\n",
    "sales_data_df = pd.DataFrame(sales_data_list, columns = ['store_id', 'date', 'amount'])"
   ]
  },
  {
   "cell_type": "code",
   "execution_count": 35,
   "metadata": {},
   "outputs": [],
   "source": [
    "# change data types for columns 'date' and 'amount'\n",
    "sales_data_df['date'] = pd.to_datetime(sales_data_df['date'])\n",
    "sales_data_df['amount'] = sales_data_df['amount'].astype(float)"
   ]
  },
  {
   "cell_type": "code",
   "execution_count": 37,
   "metadata": {},
   "outputs": [],
   "source": [
    "# merge sales_data_df and distance_df together\n",
    "df2 = pd.merge(sales_data_df, distance_df, left_on = 'store_id', right_on = 'store_id')"
   ]
  },
  {
   "cell_type": "code",
   "execution_count": 44,
   "metadata": {},
   "outputs": [],
   "source": [
    "# change data type for station id to int for joining\n",
    "knmi_weather_df['station_id'] = knmi_weather_df['station_id'].astype(int)"
   ]
  },
  {
   "cell_type": "code",
   "execution_count": 45,
   "metadata": {},
   "outputs": [],
   "source": [
    "# create final dataframe with all data\n",
    "df = pd.merge(df2, knmi_weather_df, left_on = ['station_id', 'date'], right_on = ['station_id', 'date'])"
   ]
  },
  {
   "cell_type": "code",
   "execution_count": 52,
   "metadata": {},
   "outputs": [],
   "source": [
    "# change weather data to integers for calculation of correlations\n",
    "df.iloc[:,6:] = df.iloc[:,6:].astype(int)"
   ]
  },
  {
   "cell_type": "code",
   "execution_count": 53,
   "metadata": {},
   "outputs": [
    {
     "data": {
      "text/plain": [
       "store_id                0.083821\n",
       "amount                  1.000000\n",
       "distance               -0.072443\n",
       "mean_temp               0.007115\n",
       "percipation_duration   -0.035216\n",
       "percipation_amount     -0.040988\n",
       "sunshine_duration      -0.018312\n",
       "dtype: float64"
      ]
     },
     "execution_count": 53,
     "metadata": {},
     "output_type": "execute_result"
    }
   ],
   "source": [
    "# calculate correlations between sales amount and other columns in dataframe\n",
    "df.corrwith(df['amount'])"
   ]
  },
  {
   "cell_type": "markdown",
   "metadata": {},
   "source": [
    "A strong positive correlation between sales amounts of these virtual fashion retailer stores and mean_temp and sunshine_duration is expected. People tend to go out more with better weather. A negative correlation is expected for sales amount and percipation_duration and percipation_amount. \n",
    "\n",
    "Store managers can decide to plan in less worker hours or to not replace sick employees when rain is expected. On the other hand, when weather is expected to improve, more employee hours can be planned in! Profitability of stores can therefore be improved.\n",
    "\n",
    "<b>Unfortunately, with the randomly generated sales data such correlations can not be found.</b>"
   ]
  },
  {
   "cell_type": "code",
   "execution_count": null,
   "metadata": {},
   "outputs": [],
   "source": []
  }
 ],
 "metadata": {
  "kernelspec": {
   "display_name": "Python 3",
   "language": "python",
   "name": "python3"
  },
  "language_info": {
   "codemirror_mode": {
    "name": "ipython",
    "version": 3
   },
   "file_extension": ".py",
   "mimetype": "text/x-python",
   "name": "python",
   "nbconvert_exporter": "python",
   "pygments_lexer": "ipython3",
   "version": "3.6.8"
  }
 },
 "nbformat": 4,
 "nbformat_minor": 2
}
